{
 "cells": [
  {
   "cell_type": "code",
   "execution_count": 102,
   "id": "6897d0b1-c280-43e2-8feb-d6a15bad7da5",
   "metadata": {},
   "outputs": [],
   "source": [
    "import numpy as np\n",
    "import matplotlib.pyplot as plt \n",
    "import copy"
   ]
  },
  {
   "cell_type": "markdown",
   "id": "abbf1b45-cdd2-4fc6-8b80-526a1cc55c90",
   "metadata": {},
   "source": [
    "# Multiple Linear Regression\n",
    "## Goals \n",
    "- Extend our regression model  routines to support multiple features\n",
    "- Extend data structures to support multiple features\n",
    "- Rewrite prediction, cost and gradient routines to support multiple features"
   ]
  },
  {
   "cell_type": "markdown",
   "id": "58807671-297d-4eeb-8561-839b2d885e89",
   "metadata": {},
   "source": [
    "# Problem Statement\n",
    "I will use the example of housing price prediction. The training dataset contains three examples with four features (size, bedrooms, floors and, age) shown in the table below.\n",
    "\n",
    "| Size (sqft) | Number of Bedrooms  | Number of floors | Age of  Home | Price (1000s dollars)  |   \r\n",
    "| ----------------| ------------------- |----------------- |--------------|-------------- |  \r\n",
    "| 2104            | 5                   | 1                | 45           | 460           |  \r\n",
    "| 1416            | 3                   | 2                | 40           | 232           |  \r\n",
    "| 852             | 2                   | 1                | 35           | 178         \n",
    "\n",
    "I will build a linear regression model using these values so you can then predict the price for other houses.  | "
   ]
  },
  {
   "cell_type": "code",
   "execution_count": 7,
   "id": "040bde67-2042-40ca-ad16-8472f44b9466",
   "metadata": {},
   "outputs": [],
   "source": [
    "x_train = np.array([[2104, 5, 1, 45], [1416, 3, 2, 40], [852, 2, 1, 35]])\n",
    "y_train = np.array([460, 232, 178])"
   ]
  },
  {
   "cell_type": "code",
   "execution_count": 13,
   "id": "0f10f93f-8fa3-4f88-9a1b-b44f52cb4ca8",
   "metadata": {},
   "outputs": [
    {
     "name": "stdout",
     "output_type": "stream",
     "text": [
      "X Shape :(3, 4), X type <class 'numpy.ndarray'>\n",
      "[[2104    5    1   45]\n",
      " [1416    3    2   40]\n",
      " [ 852    2    1   35]]\n",
      "y Shape :(3,), Y type <class 'numpy.ndarray'>\n",
      "[460 232 178]\n"
     ]
    }
   ],
   "source": [
    "# data is stored in a numpy matrix \n",
    "print(f\"X Shape :{x_train.shape}, X type {type(x_train)}\")\n",
    "print(x_train)\n",
    "\n",
    "print(f\"y Shape :{y_train.shape}, Y type {type(y_train)}\")\n",
    "print(y_train)"
   ]
  },
  {
   "cell_type": "markdown",
   "id": "c8800d0d-6409-45ec-8579-3d3d39072d88",
   "metadata": {},
   "source": [
    "## 2.2 Parameter vector w, b\r\n",
    "\r\n",
    "* $\\mathbf{w}$ is a vector with $n$ elements.\r\n",
    "  - Each element contains the parameter associated with one feature.\r\n",
    "  - in our dataset, n is 4.\r\n",
    "  - notionally, we draw this as a column v\n",
    " \n",
    "* $b$ is a scalar parameter.  ector"
   ]
  },
  {
   "cell_type": "markdown",
   "id": "4b071ae7-f14c-4742-8692-4afdb3cabf94",
   "metadata": {},
   "source": [
    "For demonstration, $\\mathbf{w}$ and $b$ will be loaded with some initial selected values that are near the optimal. $\\mathbf{w}$ is a 1-D NumPy vector."
   ]
  },
  {
   "cell_type": "code",
   "execution_count": 18,
   "id": "aa95cd16-cbb1-4eca-bdf1-e3aa87488548",
   "metadata": {},
   "outputs": [
    {
     "name": "stdout",
     "output_type": "stream",
     "text": [
      "w_init shape: (4,), b_init type: <class 'float'>\n"
     ]
    }
   ],
   "source": [
    "b_init = 785.1811367994083\n",
    "w_init = np.array([ 0.39133535, 18.75376741, -53.36032453, -26.42131618])\n",
    "print(f\"w_init shape: {w_init.shape}, b_init type: {type(b_init)}\")"
   ]
  },
  {
   "cell_type": "markdown",
   "id": "014c4b5e-45c1-4f08-810a-e6edc25d8003",
   "metadata": {},
   "source": [
    "# Model Prediction With Multiple Variables\n",
    "The model's prediction with multiple variables is given by the linear model:\n",
    "\n",
    "$$ f_{\\mathbf{w},b}(\\mathbf{x}) =  w_0x_0 + w_1x_1 +... + w_{n-1}x_{n-1} + b \\tag{1}$$\n",
    "or in vector notation:\n",
    "$$ f_{\\mathbf{w},b}(\\mathbf{x}) = \\mathbf{w} \\cdot \\mathbf{x} + b  \\tag{2} $$ \n",
    "where $\\cdot$ is a vector `dot product`\n",
    "\n",
    "To demonstrate the dot product, we will implement prediction using (1) and (2)."
   ]
  },
  {
   "cell_type": "markdown",
   "id": "879349b2-bce7-497a-9247-d69f2058d1f1",
   "metadata": {},
   "source": [
    "# Single Prediction element by element\n",
    "Our previous prediction multiplied one feature value by one parameter and added a bias parameter. A direct extension of our previous implementation of prediction to multiple features would be to implement (1) above using loop over each element, performing the multiply with its parameter and then adding the bias parameter at the end."
   ]
  },
  {
   "cell_type": "code",
   "execution_count": 46,
   "id": "7f8dc991-432d-46d1-bc69-2f715dc36928",
   "metadata": {},
   "outputs": [],
   "source": [
    "def predict_single_loop(x, w, b):\n",
    "    \"\"\"\n",
    "    single predict using linear regression\n",
    "    \n",
    "    Args:\n",
    "      x (ndarray): Shape (n,) example with multiple features\n",
    "      w (ndarray): Shape (n,) model parameters    \n",
    "      b (scalar):  model parameter     \n",
    "      \n",
    "    Returns:\n",
    "      p (scalar):  prediction\n",
    "    \"\"\"\n",
    "    n = x.shape[0]\n",
    "    p = 0\n",
    "    for i in range(n):\n",
    "        p = p + w[i] * x[i]\n",
    "    p = p+ b\n",
    "    return p"
   ]
  },
  {
   "cell_type": "code",
   "execution_count": 48,
   "id": "8a47b350-646c-4d19-8ec2-65f7b4ec615d",
   "metadata": {},
   "outputs": [
    {
     "name": "stdout",
     "output_type": "stream",
     "text": [
      "X_Sample shape: (4,), X_Sample value = [2104    5    1   45]\n",
      "Prediction : 459.999998\n"
     ]
    }
   ],
   "source": [
    "X_Sample = x_train[0,:] # single observation for prediction \n",
    "print(f\"X_Sample shape: {X_Sample.shape}, X_Sample value = {X_Sample}\")\n",
    "\n",
    "# make a prediction using initial parameters \n",
    "p = predict_single_loop(X_Sample, w_init, b_init)\n",
    "print(f\"Prediction : {p:4f}\")"
   ]
  },
  {
   "cell_type": "markdown",
   "id": "05b1f3f5-38cb-47ea-b938-0f8fe86fdcc1",
   "metadata": {},
   "source": [
    "## Single Prediction, vector\r\n",
    "\r\n",
    "Noting that equation (1) above can be implemented using the dot product as in (2) above. We can make use of vector operations to speed up predictions."
   ]
  },
  {
   "cell_type": "code",
   "execution_count": 52,
   "id": "1cc536f5-7f8a-444b-be4c-c18851792a34",
   "metadata": {},
   "outputs": [],
   "source": [
    "def predict_using_dot(x, w, b):\n",
    "    \"\"\"\n",
    "    single predict using linear regression\n",
    "    \n",
    "    Args:\n",
    "      x (ndarray): Shape (n,) example with multiple features\n",
    "      w (ndarray): Shape (n,) model parameters    \n",
    "      b (scalar):  model parameter     \n",
    "      \n",
    "    Returns:\n",
    "      p (scalar):  prediction\n",
    "    \"\"\"\n",
    "    return np.dot(x, w) + b"
   ]
  },
  {
   "cell_type": "markdown",
   "id": "40b11f7a-18f0-4ffe-ad4b-670701adde60",
   "metadata": {},
   "source": [
    "## Using .dot"
   ]
  },
  {
   "cell_type": "code",
   "execution_count": 56,
   "id": "633924c3-e7bc-4377-ac0d-0d28737a24cf",
   "metadata": {},
   "outputs": [
    {
     "name": "stdout",
     "output_type": "stream",
     "text": [
      "X_Sample shape: (4,), X_Sample value = [2104    5    1   45]\n",
      "Prediction : 459.999998\n"
     ]
    }
   ],
   "source": [
    "X_Sample = x_train[0,:] # single observation for prediction \n",
    "print(f\"X_Sample shape: {X_Sample.shape}, X_Sample value = {X_Sample}\")\n",
    "\n",
    "# make a prediction using initial parameters \n",
    "p = predict_using_dot(X_Sample, w_init, b_init)\n",
    "print(f\"Prediction : {p:4f}\")"
   ]
  },
  {
   "cell_type": "markdown",
   "id": "3569bdcb-ae35-4409-8997-a5cd361b5693",
   "metadata": {},
   "source": [
    "# Cost With Multiple Variables\n",
    "The equation for the cost function with multiple variables $J(\\mathbf{w},b)$ is:\n",
    "$$J(\\mathbf{w},b) = \\frac{1}{2m} \\sum\\limits_{i = 0}^{m-1} (f_{\\mathbf{w},b}(\\mathbf{x}^{(i)}) - y^{(i)})^2 \\tag{3}$$ \n",
    "where:\n",
    "$$ f_{\\mathbf{w},b}(\\mathbf{x}^{(i)}) = \\mathbf{w} \\cdot \\mathbf{x}^{(i)} + b  \\tag{4} $$ \n",
    "\n",
    "\n",
    "In contrast to previous labs, $\\mathbf{w}$ and $\\mathbf{x}^{(i)}$ are vectors rather than scalars supporting multiple features."
   ]
  },
  {
   "cell_type": "code",
   "execution_count": 61,
   "id": "a460cdc1-4c2b-4e05-85a0-6db3b3b664ae",
   "metadata": {},
   "outputs": [],
   "source": [
    "def compute_cost(x, y, w, b):\n",
    "    \"\"\"\n",
    "    compute cost\n",
    "    Args:\n",
    "      X (ndarray (m,n)): Data, m examples with n features\n",
    "      y (ndarray (m,)) : target values\n",
    "      w (ndarray (n,)) : model parameters  \n",
    "      b (scalar)       : model parameter\n",
    "      \n",
    "    Returns:\n",
    "      cost (scalar): cost\n",
    "    \"\"\"\n",
    "    m = x.shape[0]\n",
    "    sum = 0\n",
    "    for i in range(m):\n",
    "        f_wb = np.dot(x[i], w) + b\n",
    "        sum = sum + (f_wb - y[i])**2\n",
    "    cost = sum / (2*m)\n",
    "    return cost"
   ]
  },
  {
   "cell_type": "code",
   "execution_count": 66,
   "id": "cdabf44a-ab25-44a3-975b-33313e1da107",
   "metadata": {},
   "outputs": [
    {
     "data": {
      "text/plain": [
       "[459.9999976194083, 231.9999983694081, 177.99999898940825]"
      ]
     },
     "execution_count": 66,
     "metadata": {},
     "output_type": "execute_result"
    }
   ],
   "source": [
    "y_pred = []\n",
    "m = x_train.shape[0]\n",
    "for i in range(m):\n",
    "    y_pred.append(predict_using_dot(x_train[i], w_init, b_init))\n",
    "\n",
    "y_pred"
   ]
  },
  {
   "cell_type": "code",
   "execution_count": 68,
   "id": "a83f9743-eab5-49ca-a8e0-00b3a5d3f1a3",
   "metadata": {},
   "outputs": [
    {
     "data": {
      "text/plain": [
       "[<matplotlib.lines.Line2D at 0x2b3ac56d5e0>,\n",
       " <matplotlib.lines.Line2D at 0x2b3ac56c110>,\n",
       " <matplotlib.lines.Line2D at 0x2b3abd75280>,\n",
       " <matplotlib.lines.Line2D at 0x2b3abd77410>]"
      ]
     },
     "execution_count": 68,
     "metadata": {},
     "output_type": "execute_result"
    },
    {
     "data": {
      "image/png": "[encoded data removed]",
      "text/plain": [
       "<Figure size 640x480 with 1 Axes>"
      ]
     },
     "metadata": {},
     "output_type": "display_data"
    }
   ],
   "source": [
    "plt.plot(x_train, y_pred, c='r')"
   ]
  },
  {
   "cell_type": "markdown",
   "id": "cf7a52a3-f1b4-4e4c-a089-f305481c5b68",
   "metadata": {},
   "source": [
    "# Gradient Descent With Multiple Variables\r\n",
    "Gradient descent for multiple variables:\r\n",
    "\r\n",
    "$$\\begin{align*} \\text{repeat}&\\text{ until convergence:} \\; \\lbrace \\newline\\;\r\n",
    "& w_j = w_j -  \\alpha \\frac{\\partial J(\\mathbf{w},b)}{\\partial w_j} \\tag{5}  \\; & \\text{for j = 0..n-1}\\newline\r\n",
    "&b\\ \\ = b -  \\alpha \\frac{\\partial J(\\mathbf{w},b)}{\\partial b}  \\newline \\rbrace\r\n",
    "\\end{align*}$$\r\n",
    "\r\n",
    "where, n is the number of features, parameters $w_j$,  $b$, are updated simultaneously and where  \r\n",
    "\r\n",
    "$$\r\n",
    "\\begin{align}\r\n",
    "\\frac{\\partial J(\\mathbf{w},b)}{\\partial w_j}  &= \\frac{1}{m} \\sum\\limits_{i = 0}^{m-1} (f_{\\mathbf{w},b}(\\mathbf{x}^{(i)}) - y^{(i)})x_{j}^{(i)} \\tag{6}  \\\\\r\n",
    "\\frac{\\partial J(\\mathbf{w},b)}{\\partial b}  &= \\frac{1}{m} \\sum\\limits_{i = 0}^{m-1} (f_{\\mathbf{w},b}(\\mathbf{x}^{(i)}) - y^{(i)}) \\tag{7}\r\n",
    "\\end{align}\r\n",
    "$$\r\n",
    "* m is the number of training examples in the data set\r\n",
    "\r\n",
    "    \r\n",
    "*  $f_{\\mathbf{w},b}(\\mathbf{x}^{(i)})$ is the model's prediction, while $y^{(i)}$ s the target value\r\n"
   ]
  },
  {
   "cell_type": "markdown",
   "id": "6e120eaf-50ab-49e6-9751-6049cc3a8d7d",
   "metadata": {},
   "source": [
    "##  Compute Gradient with Multiple Variables\n",
    "An implementation for calculating the equations (6) and (7) is below. There are many ways to implement this. In this version, there is an\n",
    "- outer loop over all m examples. \n",
    "    - $\\frac{\\partial J(\\mathbf{w},b)}{\\partial b}$ for the example can be computed directly and accumulated\n",
    "    - in a second loop over all n features:\n",
    "        - $\\frac{\\partial J(\\mathbf{w},b)}{\\partial w_j}$ is computed for each $w_j$.\n",
    "   "
   ]
  },
  {
   "cell_type": "code",
   "execution_count": 97,
   "id": "888ba84a-a4ea-4c2d-83b4-67d86d3953fe",
   "metadata": {},
   "outputs": [],
   "source": [
    "def compute_gradient(x, y, w, b):\n",
    "    \"\"\"\n",
    "    Computes the gradient for linear regression \n",
    "    Args:\n",
    "      X (ndarray (m,n)): Data, m examples with n features\n",
    "      y (ndarray (m,)) : target values\n",
    "      w (ndarray (n,)) : model parameters  \n",
    "      b (scalar)       : model parameter\n",
    "      \n",
    "    Returns:\n",
    "      dj_dw (ndarray (n,)): The gradient of the cost w.r.t. the parameters w. \n",
    "      dj_db (scalar):       The gradient of the cost w.r.t. the parameter b. \n",
    "    \"\"\"\n",
    "    m, n = x.shape\n",
    "    dj_dw = np.zeros((n,))\n",
    "    dj_db = 0.\n",
    "    for i in range(m):\n",
    "        err = (np.dot(x[i], w) + b) - y[i]\n",
    "        for j in range(n):\n",
    "            dj_dw[j] = dj_dw[j] + err * x[i][j]\n",
    "        dj_db = dj_db + err\n",
    "    dj_dw = dj_dw / m\n",
    "    dj_db = dj_db / m\n",
    "    return dj_dw, dj_db"
   ]
  },
  {
   "cell_type": "code",
   "execution_count": 99,
   "id": "b6a9c304-af5f-4413-9a17-a9c3255926b2",
   "metadata": {},
   "outputs": [
    {
     "name": "stdout",
     "output_type": "stream",
     "text": [
      "dj_dw at initial w, b: [-2.72623574e-03 -6.27197255e-06 -2.21745574e-06 -6.92403377e-05]\n",
      "dj_db at initial w, b: -1.6739251122999121e-06\n"
     ]
    }
   ],
   "source": [
    "temp_dj_dw , temp_dj_db = compute_gradient(x_train, y_train, w_init, b_init)\n",
    "print(f\"dj_dw at initial w, b: {temp_dj_dw}\")\n",
    "print(f\"dj_db at initial w, b: {temp_dj_db}\")"
   ]
  },
  {
   "cell_type": "code",
   "execution_count": 122,
   "id": "8e24cfca-9c1f-42e9-8a5a-7fab701f88ad",
   "metadata": {},
   "outputs": [],
   "source": [
    "def gradient_descent(x, y, w_in, b_in, cost_fun, gradient_fun, alpha, n_of_iter):\n",
    "    \"\"\"\n",
    "    Performs batch gradient descent to learn theta. Updates theta by taking \n",
    "    num_iters gradient steps with learning rate alpha\n",
    "    \n",
    "    Args:\n",
    "      X (ndarray (m,n))   : Data, m examples with n features\n",
    "      y (ndarray (m,))    : target values\n",
    "      w_in (ndarray (n,)) : initial model parameters  \n",
    "      b_in (scalar)       : initial model parameter\n",
    "      cost_function       : function to compute cost\n",
    "      gradient_function   : function to compute the gradient\n",
    "      alpha (float)       : Learning rate\n",
    "      num_iters (int)     : number of iterations to run gradient descent\n",
    "      \n",
    "    Returns:\n",
    "      w (ndarray (n,)) : Updated values of parameters \n",
    "      b (scalar)       : Updated value of parameter \n",
    "      \"\"\"\n",
    "    # cost function history\n",
    "    j_hist = []\n",
    "    p_hist = []\n",
    "    w=copy.deepcopy(w_in)\n",
    "    b=copy.deepcopy(b_in)\n",
    "    for i in range(n_of_iter):\n",
    "        cur_cost = cost_fun(x, y, w, b)\n",
    "        j_hist.append(cur_cost)\n",
    "        p_hist.append([[w], b])\n",
    "        cur_dj_dw, cur_dj_db = gradient_fun(x, y, w, b)\n",
    "        w = w - alpha * cur_dj_dw\n",
    "        b = b - alpha * cur_dj_db\n",
    "        if i%(100) == 0:\n",
    "            print(f\"iter :{i}, and cost :{cur_cost}\")\n",
    "    return w, b, j_hist"
   ]
  },
  {
   "cell_type": "code",
   "execution_count": 124,
   "id": "d4f02dea-f55b-44bd-88c8-a7921df47b44",
   "metadata": {},
   "outputs": [
    {
     "name": "stdout",
     "output_type": "stream",
     "text": [
      "iter :0, and cost :49518.0\n",
      "iter :100, and cost :696.0010595124639\n",
      "iter :200, and cost :694.9313476914755\n",
      "iter :300, and cost :693.8709864577189\n",
      "iter :400, and cost :692.8198930237821\n",
      "iter :500, and cost :691.7779853352557\n",
      "iter :600, and cost :690.7451820642364\n",
      "iter :700, and cost :689.7214026029072\n",
      "iter :800, and cost :688.7065670571469\n",
      "iter :900, and cost :687.7005962402227\n",
      "b,w found by gradient descent: -0.00,[ 0.20396569  0.00374919 -0.0112487  -0.0658614 ] \n",
      "prediction: 426.19, target value: 460\n",
      "prediction: 286.17, target value: 232\n",
      "prediction: 171.47, target value: 178\n"
     ]
    }
   ],
   "source": [
    "# initialize parameters\n",
    "initial_w = np.zeros_like(w_init)\n",
    "initial_b = 0.\n",
    "# some gradient descent settings\n",
    "iterations = 1000\n",
    "alpha = 5.0e-7\n",
    "# run gradient descent \n",
    "w_final, b_final, J_hist = gradient_descent(x_train, y_train, initial_w, initial_b,\n",
    "                                                    compute_cost, compute_gradient, \n",
    "                                                    alpha, iterations)\n",
    "print(f\"b,w found by gradient descent: {b_final:0.2f},{w_final} \")\n",
    "m,_ = x_train.shape\n",
    "for i in range(m):\n",
    "    print(f\"prediction: {np.dot(x_train[i], w_final) + b_final:0.2f}, target value: {y_train[i]}\")"
   ]
  },
  {
   "cell_type": "code",
   "execution_count": 132,
   "id": "e2464c74-bdfe-433c-a47b-594502cf0342",
   "metadata": {},
   "outputs": [
    {
     "data": {
      "image/png": "[encoded data removed]",
      "text/plain": [
       "<Figure size 1200x400 with 2 Axes>"
      ]
     },
     "metadata": {},
     "output_type": "display_data"
    }
   ],
   "source": [
    "# plot cost versus iteration  \n",
    "fig, (ax1, ax2) = plt.subplots(1, 2, constrained_layout=True, figsize=(12, 4))\n",
    "ax1.plot(J_hist)\n",
    "ax2.plot(100 + np.arange(len(J_hist[100:])), J_hist[100:])\n",
    "ax1.set_title(\"Cost vs. iteration\");  ax2.set_title(\"Cost vs. iteration (tail)\")\n",
    "ax1.set_ylabel('Cost')             ;  ax2.set_ylabel('Cost') \n",
    "ax1.set_xlabel('iteration step')   ;  ax2.set_xlabel('iteration step') \n",
    "plt.show()"
   ]
  },
  {
   "cell_type": "code",
   "execution_count": null,
   "id": "c2bcde15-87db-4938-8fa5-73be7f9e8cb6",
   "metadata": {},
   "outputs": [],
   "source": []
  }
 ],
 "metadata": {
  "kernelspec": {
   "display_name": "Python 3 (ipykernel)",
   "language": "python",
   "name": "python3"
  },
  "language_info": {
   "codemirror_mode": {
    "name": "ipython",
    "version": 3
   },
   "file_extension": ".py",
   "mimetype": "text/x-python",
   "name": "python",
   "nbconvert_exporter": "python",
   "pygments_lexer": "ipython3",
   "version": "3.12.4"
  }
 },
 "nbformat": 4,
 "nbformat_minor": 5
}
